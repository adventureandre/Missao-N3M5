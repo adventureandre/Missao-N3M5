{
 "cells": [
  {
   "cell_type": "code",
   "execution_count": 1,
   "id": "5c75f592-6c39-4182-a0c5-40626af751a9",
   "metadata": {},
   "outputs": [
    {
     "name": "stdout",
     "output_type": "stream",
     "text": [
      "<class 'pandas.core.frame.DataFrame'>\n",
      "RangeIndex: 32 entries, 0 to 31\n",
      "Data columns (total 6 columns):\n",
      " #   Column    Non-Null Count  Dtype \n",
      "---  ------    --------------  ----- \n",
      " 0   ID        32 non-null     int64 \n",
      " 1   Duration  32 non-null     int64 \n",
      " 2   Date      31 non-null     object\n",
      " 3   Pulse     32 non-null     int64 \n",
      " 4   Maxpulse  32 non-null     int64 \n",
      " 5   Calories  30 non-null     object\n",
      "dtypes: int64(4), object(2)\n",
      "memory usage: 1.6+ KB\n",
      "\n",
      "Informações gerais:\n",
      "None\n",
      "\n",
      "Total de linhas: 32\n",
      "Total de colunas: 6\n",
      "\n",
      "Quantidade de dados nulos por coluna:\n",
      "ID          0\n",
      "Duration    0\n",
      "Date        1\n",
      "Pulse       0\n",
      "Maxpulse    0\n",
      "Calories    2\n",
      "dtype: int64\n",
      "\n",
      "Tipos de dados por coluna:\n",
      "ID           int64\n",
      "Duration     int64\n",
      "Date        object\n",
      "Pulse        int64\n",
      "Maxpulse     int64\n",
      "Calories    object\n",
      "dtype: object\n",
      "\n",
      "Memória utilizada pelo conjunto de dados: 5219 bytes\n"
     ]
    }
   ],
   "source": [
    "import pandas as pd\n",
    "\n",
    "dados = pd.read_csv('dados.csv', sep=';', engine='python', encoding='utf-8')\n",
    "\n",
    "dados_info = dados.info()\n",
    "\n",
    "#Informação\n",
    "print(\"\\nInformações gerais:\")\n",
    "print(dados_info)\n",
    "\n",
    "# linhas\n",
    "total_linhas = dados.shape[0]\n",
    "total_colunas = dados.shape[1]\n",
    "\n",
    "print(f\"\\nTotal de linhas: {total_linhas}\")\n",
    "print(f\"Total de colunas: {total_colunas}\")\n",
    "\n",
    "# nulos\n",
    "dados_nulos = dados.isnull().sum()\n",
    "print(\"\\nQuantidade de dados nulos por coluna:\")\n",
    "print(dados_nulos)\n",
    "\n",
    "# tipos\n",
    "tipos_dados = dados.dtypes\n",
    "print(\"\\nTipos de dados por coluna:\")\n",
    "print(tipos_dados)\n",
    "\n",
    "# memoria\n",
    "memoria_utilizada = dados.memory_usage(deep=True).sum()\n",
    "print(f\"\\nMemória utilizada pelo conjunto de dados: {memoria_utilizada} bytes\")\n"
   ]
  }
 ],
 "metadata": {
  "kernelspec": {
   "display_name": "Python 3 (ipykernel)",
   "language": "python",
   "name": "python3"
  },
  "language_info": {
   "codemirror_mode": {
    "name": "ipython",
    "version": 3
   },
   "file_extension": ".py",
   "mimetype": "text/x-python",
   "name": "python",
   "nbconvert_exporter": "python",
   "pygments_lexer": "ipython3",
   "version": "3.11.6"
  }
 },
 "nbformat": 4,
 "nbformat_minor": 5
}
