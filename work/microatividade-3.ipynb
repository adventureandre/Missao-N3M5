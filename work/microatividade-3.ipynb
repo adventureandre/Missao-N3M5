{
 "cells": [
  {
   "cell_type": "code",
   "execution_count": 6,
   "id": "39a4c981-4864-4dde-a1f1-cc02702fd293",
   "metadata": {},
   "outputs": [
    {
     "name": "stdout",
     "output_type": "stream",
     "text": [
      "    ID  Duration          Date  Pulse  Maxpulse Calories\n",
      "0    0        60  '2020/12/01'    110       130     4091\n",
      "1    1        60  '2020/12/02'    117       145     4790\n",
      "2    2        60  '2020/12/03'    103       135     3400\n",
      "3    3        45  '2020/12/04'    109       175     2824\n",
      "4    4        45  '2020/12/05'    117       148     4060\n",
      "5    5        60  '2020/12/06'    102       127     3000\n",
      "6    6        60  '2020/12/07'    110       136     3740\n",
      "7    7       450  '2020/12/08'    104       134     2533\n",
      "8    8        30  '2020/12/09'    109       133     1951\n",
      "9    9        60  '2020/12/10'     98       124     2690\n",
      "10  10        60  '2020/12/11'    103       147     3293\n",
      "11  11        60  '2020/12/12'    100       120     2507\n",
      "12  12        60  '2020/12/12'    100       120     2507\n",
      "13  13        60  '2020/12/13'    106       128     3453\n",
      "14  14        60  '2020/12/14'    104       132     3793\n",
      "15  15        60  '2020/12/15'     98       123     2750\n",
      "16  16        60  '2020/12/16'     98       120     2152\n",
      "17  17        60  '2020/12/17'    100       120     3000\n",
      "18  18        45  '2020/12/18'     90       112      NaN\n",
      "19  19        60  '2020/12/19'    103       123     3230\n",
      "20  20        45  '2020/12/20'     97       125   2430 2\n",
      "21   1        60  '2020/12/21'    108       131     3642\n",
      "22  22        45           NaN    100       119     2820\n",
      "23  23        60  '2020/12/23'    130       101     3000\n",
      "24  24        45  '2020/12/24'    105       132     2460\n",
      "25  25        60  '2020/12/25'    102       126     3345\n",
      "26  26        60      20201226    100       120     2500\n",
      "27  27        60  '2020/12/27'     92       118     2410\n",
      "28  28        60  '2020/12/28'    103       132      NaN\n",
      "29  29        60  '2020/12/29'    100       132     2800\n",
      "30  30        60  '2020/12/30'    102       129     3803\n",
      "31  31        60  '2020/12/31'     92       115     2430\n"
     ]
    }
   ],
   "source": [
    "import pandas as pd\n",
    "\n",
    "dados = pd.read_csv('dados.csv', sep=';', engine='python', encoding='utf-8')\n",
    "\n",
    "pd.set_option('display.max_rows', 9999)\n",
    "\n",
    "print(dados.to_string())\n"
   ]
  },
  {
   "cell_type": "code",
   "execution_count": null,
   "id": "eba2d0df-a01f-46c5-8e16-9a5fac9869be",
   "metadata": {},
   "outputs": [],
   "source": []
  }
 ],
 "metadata": {
  "kernelspec": {
   "display_name": "Python 3 (ipykernel)",
   "language": "python",
   "name": "python3"
  },
  "language_info": {
   "codemirror_mode": {
    "name": "ipython",
    "version": 3
   },
   "file_extension": ".py",
   "mimetype": "text/x-python",
   "name": "python",
   "nbconvert_exporter": "python",
   "pygments_lexer": "ipython3",
   "version": "3.11.6"
  }
 },
 "nbformat": 4,
 "nbformat_minor": 5
}
