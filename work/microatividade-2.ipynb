{
 "cells": [
  {
   "cell_type": "code",
   "execution_count": 1,
   "id": "249eb3c2-0837-4206-870a-f5996f7ba3f2",
   "metadata": {},
   "outputs": [
    {
     "name": "stdout",
     "output_type": "stream",
     "text": [
      "            Date  Pulse Calories\n",
      "0   '2020/12/01'    110     4091\n",
      "1   '2020/12/02'    117     4790\n",
      "2   '2020/12/03'    103     3400\n",
      "3   '2020/12/04'    109     2824\n",
      "4   '2020/12/05'    117     4060\n",
      "5   '2020/12/06'    102     3000\n",
      "6   '2020/12/07'    110     3740\n",
      "7   '2020/12/08'    104     2533\n",
      "8   '2020/12/09'    109     1951\n",
      "9   '2020/12/10'     98     2690\n",
      "10  '2020/12/11'    103     3293\n",
      "11  '2020/12/12'    100     2507\n",
      "12  '2020/12/12'    100     2507\n",
      "13  '2020/12/13'    106     3453\n",
      "14  '2020/12/14'    104     3793\n",
      "15  '2020/12/15'     98     2750\n",
      "16  '2020/12/16'     98     2152\n",
      "17  '2020/12/17'    100     3000\n",
      "18  '2020/12/18'     90      NaN\n",
      "19  '2020/12/19'    103     3230\n",
      "20  '2020/12/20'     97   2430 2\n",
      "21  '2020/12/21'    108     3642\n",
      "22           NaN    100     2820\n",
      "23  '2020/12/23'    130     3000\n",
      "24  '2020/12/24'    105     2460\n",
      "25  '2020/12/25'    102     3345\n",
      "26      20201226    100     2500\n",
      "27  '2020/12/27'     92     2410\n",
      "28  '2020/12/28'    103      NaN\n",
      "29  '2020/12/29'    100     2800\n",
      "30  '2020/12/30'    102     3803\n",
      "31  '2020/12/31'     92     2430\n"
     ]
    }
   ],
   "source": [
    "import pandas as pd\n",
    "\n",
    "dados = pd.read_csv('dados.csv', sep=';', engine='python', encoding='utf-8')\n",
    "\n",
    "subconjunto_dados = dados[['Date', 'Pulse', 'Calories']]\n",
    "\n",
    "print(subconjunto_dados)\n"
   ]
  }
 ],
 "metadata": {
  "kernelspec": {
   "display_name": "Python 3 (ipykernel)",
   "language": "python",
   "name": "python3"
  },
  "language_info": {
   "codemirror_mode": {
    "name": "ipython",
    "version": 3
   },
   "file_extension": ".py",
   "mimetype": "text/x-python",
   "name": "python",
   "nbconvert_exporter": "python",
   "pygments_lexer": "ipython3",
   "version": "3.11.6"
  }
 },
 "nbformat": 4,
 "nbformat_minor": 5
}
